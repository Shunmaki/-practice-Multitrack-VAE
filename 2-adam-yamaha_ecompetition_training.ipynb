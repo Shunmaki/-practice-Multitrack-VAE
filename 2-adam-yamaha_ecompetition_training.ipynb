{
 "cells": [
  {
   "cell_type": "code",
   "execution_count": 1,
   "id": "attempted-antibody",
   "metadata": {},
   "outputs": [],
   "source": [
    "# Training with Yamaha Dataset\n",
    "import mfn_processing # Code of Music FaderNets for processing to MIDI-like representation."
   ]
  },
  {
   "cell_type": "code",
   "execution_count": 2,
   "id": "mexican-default",
   "metadata": {},
   "outputs": [],
   "source": [
    "config = {\n",
    "    \"batch_size\": 64,\n",
    "    \"n_epochs\": 500,\n",
    "    \"lr\": 5e-4,\n",
    "    \"decay\": 0.9999,\n",
    "    \"name\": \"singlevae\",\n",
    "    \"hidden_dim\": 512,\n",
    "    \"z_dim\": 128,\n",
    "    \"time_step\": 256,\n",
    "    \"beta\": 0,\n",
    "    \"beta_annealing\":\n",
    "    {\n",
    "        \"max_value\": 0.5,\n",
    "        \"anneal_steps\": 50000,\n",
    "        \"start_step\":5000\n",
    "    }\n",
    "}"
   ]
  },
  {
   "cell_type": "code",
   "execution_count": 3,
   "id": "structural-dallas",
   "metadata": {},
   "outputs": [
    {
     "ename": "ModuleNotFoundError",
     "evalue": "No module named 'ptb_v2'",
     "output_type": "error",
     "traceback": [
      "\u001b[0;31m---------------------------------------------------------------------------\u001b[0m",
      "\u001b[0;31mModuleNotFoundError\u001b[0m                       Traceback (most recent call last)",
      "Input \u001b[0;32mIn [3]\u001b[0m, in \u001b[0;36m<cell line: 1>\u001b[0;34m()\u001b[0m\n\u001b[0;32m----> 1\u001b[0m \u001b[38;5;28;01mfrom\u001b[39;00m \u001b[38;5;21;01mptb_v2\u001b[39;00m \u001b[38;5;28;01mimport\u001b[39;00m YamahaDataset, get_classic_piano\n\u001b[1;32m      2\u001b[0m \u001b[38;5;28;01mfrom\u001b[39;00m \u001b[38;5;21;01mtorch\u001b[39;00m\u001b[38;5;21;01m.\u001b[39;00m\u001b[38;5;21;01mutils\u001b[39;00m\u001b[38;5;21;01m.\u001b[39;00m\u001b[38;5;21;01mdata\u001b[39;00m \u001b[38;5;28;01mimport\u001b[39;00m DataLoader\n\u001b[1;32m      3\u001b[0m batch_size \u001b[38;5;241m=\u001b[39m config[\u001b[38;5;124m\"\u001b[39m\u001b[38;5;124mbatch_size\u001b[39m\u001b[38;5;124m\"\u001b[39m]\n",
      "\u001b[0;31mModuleNotFoundError\u001b[0m: No module named 'ptb_v2'"
     ]
    }
   ],
   "source": [
    "from ptb_v2 import YamahaDataset, get_classic_piano\n",
    "from torch.utils.data import DataLoader\n",
    "batch_size = config[\"batch_size\"]\n",
    "\n",
    "# dataloaders\n",
    "is_shuffle = True\n",
    "data_lst, rhythm_lst, note_density_lst, chroma_lst = get_classic_piano(data_type=\"long\")\n",
    "tlen, vlen = int(0.8 * len(data_lst)), int(0.9 * len(data_lst))\n",
    "train_ds_dist = YamahaDataset(data_lst, rhythm_lst, note_density_lst, \n",
    "                                chroma_lst, mode=\"train\")\n",
    "train_dl_dist = DataLoader(train_ds_dist, batch_size=batch_size, shuffle=is_shuffle, num_workers=0)\n",
    "val_ds_dist = YamahaDataset(data_lst, rhythm_lst, note_density_lst, \n",
    "                                chroma_lst, mode=\"val\")\n",
    "val_dl_dist = DataLoader(val_ds_dist, batch_size=batch_size, shuffle=is_shuffle, num_workers=0)\n",
    "test_ds_dist = YamahaDataset(data_lst, rhythm_lst, note_density_lst, \n",
    "                                chroma_lst, mode=\"test\")\n",
    "test_dl_dist = DataLoader(test_ds_dist, batch_size=batch_size, shuffle=is_shuffle, num_workers=0)\n",
    "dl = train_dl_dist\n",
    "\n",
    "train_iter = iter(train_dl_dist)"
   ]
  },
  {
   "cell_type": "code",
   "execution_count": 4,
   "id": "measured-matrix",
   "metadata": {},
   "outputs": [
    {
     "ename": "NameError",
     "evalue": "name 'sample' is not defined",
     "output_type": "error",
     "traceback": [
      "\u001b[0;31m---------------------------------------------------------------------------\u001b[0m",
      "\u001b[0;31mNameError\u001b[0m                                 Traceback (most recent call last)",
      "Input \u001b[0;32mIn [4]\u001b[0m, in \u001b[0;36m<cell line: 2>\u001b[0;34m()\u001b[0m\n\u001b[1;32m      1\u001b[0m \u001b[38;5;66;03m# sample = next(train_iter)\u001b[39;00m\n\u001b[0;32m----> 2\u001b[0m \u001b[38;5;28mlen\u001b[39m(\u001b[43msample\u001b[49m), [s\u001b[38;5;241m.\u001b[39mshape \u001b[38;5;28;01mfor\u001b[39;00m s \u001b[38;5;129;01min\u001b[39;00m sample]\n",
      "\u001b[0;31mNameError\u001b[0m: name 'sample' is not defined"
     ]
    }
   ],
   "source": [
    "# sample = next(train_iter)\n",
    "len(sample), [s.shape for s in sample]"
   ]
  },
  {
   "cell_type": "code",
   "execution_count": null,
   "id": "b0ba3228-483b-44b7-9d58-7f35d493c196",
   "metadata": {},
   "outputs": [],
   "source": []
  }
 ],
 "metadata": {
  "kernelspec": {
   "display_name": "Python 3 (ipykernel)",
   "language": "python",
   "name": "python3"
  },
  "language_info": {
   "codemirror_mode": {
    "name": "ipython",
    "version": 3
   },
   "file_extension": ".py",
   "mimetype": "text/x-python",
   "name": "python",
   "nbconvert_exporter": "python",
   "pygments_lexer": "ipython3",
   "version": "3.9.12"
  }
 },
 "nbformat": 4,
 "nbformat_minor": 5
}
